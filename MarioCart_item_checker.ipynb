{
 "cells": [
  {
   "cell_type": "code",
   "execution_count": 6,
   "metadata": {},
   "outputs": [
    {
     "name": "stdout",
     "output_type": "stream",
     "text": [
      "4\n",
      "{'name': 'Peach', 'items': ['green shell', 'banana', 'green shell'], 'finish': 3}\n",
      "4\n",
      "{'name': 'Bowser', 'items': ['green shell'], 'finish': 1}\n",
      "['green shell']\n",
      "{1: 1}\n",
      "4\n",
      "{'name': '', 'items': ['mushroom'], 'finish': 1}\n",
      "['mushroom']\n",
      "{1: 1, 2: 1}\n",
      "4\n",
      "{'name': 'Toad', 'items': ['green shell', 'mushroom'], 'finish': 1}\n",
      "['green shell', 'mushroom']\n",
      "{1: 1, 2: 1, 3: 1}\n",
      "['green shell', 'mushroom']\n",
      "{1: 1, 2: 1, 3: 2}\n"
     ]
    },
    {
     "data": {
      "text/plain": [
       "{1: 1, 2: 1, 3: 2}"
      ]
     },
     "execution_count": 6,
     "metadata": {},
     "output_type": "execute_result"
    }
   ],
   "source": [
    "def best_items(racers):\n",
    "    \"\"\"Given a list of racer dictionaries, return a dictionary mapping items to the number\n",
    "    of times those items were picked up by racers who finished in first place.\n",
    "    \"\"\"\n",
    "    winner_item_counts = {}\n",
    "    for i in range(len(racers)):\n",
    "        print(len(racers))\n",
    "        # The i'th racer dictionary\n",
    "        racer = racers[i]\n",
    "        print(racer)\n",
    "        # We're only interested in racers who finished in first\n",
    "        if racer['finish'] == 1:\n",
    "            for item in racer['items']:\n",
    "                print(racer['items'])\n",
    "                # Add one to the count for this item (adding it to the dict if necessary)\n",
    "                if i not in winner_item_counts:\n",
    "                    winner_item_counts[i] = 0\n",
    "                winner_item_counts[i] += 1\n",
    "                print(winner_item_counts)\n",
    "\n",
    "        # Data quality issues :/ Print a warning about racers with no name set. We'll take care of it later.\n",
    "        if racer['name'] is None:\n",
    "            print(\"WARNING: Encountered racer with unknown name on iteration {}/{} (racer = {})\".format(\n",
    "                i+1, len(racers), racer['name'])\n",
    "                 )\n",
    "    return winner_item_counts\n",
    "\n",
    "sample = [\n",
    "    {'name': 'Peach', 'items': ['green shell', 'banana', 'green shell',], 'finish': 3},\n",
    "    {'name': 'Bowser', 'items': ['green shell',], 'finish': 1},\n",
    "    {'name': '' , 'items': ['mushroom',], 'finish': 1},\n",
    "    {'name': 'Toad', 'items': ['green shell', 'mushroom'], 'finish': 1},   \n",
    "]\n",
    "\n",
    "best_items(sample)"
   ]
  },
  {
   "cell_type": "code",
   "execution_count": null,
   "metadata": {},
   "outputs": [],
   "source": []
  },
  {
   "cell_type": "code",
   "execution_count": null,
   "metadata": {},
   "outputs": [],
   "source": []
  }
 ],
 "metadata": {
  "kernelspec": {
   "display_name": "Python 3",
   "language": "python",
   "name": "python3"
  },
  "language_info": {
   "codemirror_mode": {
    "name": "ipython",
    "version": 3
   },
   "file_extension": ".py",
   "mimetype": "text/x-python",
   "name": "python",
   "nbconvert_exporter": "python",
   "pygments_lexer": "ipython3",
   "version": "3.6.4"
  }
 },
 "nbformat": 4,
 "nbformat_minor": 2
}
